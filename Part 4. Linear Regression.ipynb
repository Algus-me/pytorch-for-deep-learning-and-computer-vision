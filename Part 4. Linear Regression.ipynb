{
 "cells": [
  {
   "cell_type": "code",
   "execution_count": 1,
   "metadata": {},
   "outputs": [],
   "source": [
    "import torch\n",
    "from torch.nn import Linear\n",
    "import torch.nn as nn\n",
    "import matplotlib.pyplot as plt\n",
    "import numpy as np"
   ]
  },
  {
   "cell_type": "code",
   "execution_count": 14,
   "metadata": {},
   "outputs": [
    {
     "data": {
      "text/plain": [
       "Text(0.5, 0, 'x')"
      ]
     },
     "execution_count": 14,
     "metadata": {},
     "output_type": "execute_result"
    },
    {
     "data": {
      "image/png": "[encoded data removed]",
      "text/plain": [
       "<Figure size 432x288 with 1 Axes>"
      ]
     },
     "metadata": {
      "needs_background": "light"
     },
     "output_type": "display_data"
    }
   ],
   "source": [
    "X = torch.randn(100, 1) * 10\n",
    "y = X + 3 * torch.randn(100, 1)\n",
    "plt.plot(X, y, 'o')\n",
    "plt.ylabel('y')\n",
    "plt.xlabel('x')"
   ]
  },
  {
   "cell_type": "code",
   "execution_count": 3,
   "metadata": {},
   "outputs": [],
   "source": [
    "w = torch.tensor(3.0, requires_grad=True)\n",
    "b = torch.tensor(1.0, requires_grad=True)"
   ]
  },
  {
   "cell_type": "code",
   "execution_count": 4,
   "metadata": {},
   "outputs": [],
   "source": [
    "def forward(x):\n",
    "    y = w * x + b\n",
    "    return y"
   ]
  },
  {
   "cell_type": "code",
   "execution_count": 5,
   "metadata": {},
   "outputs": [
    {
     "data": {
      "text/plain": [
       "tensor([[16.],\n",
       "        [76.]], grad_fn=<AddBackward0>)"
      ]
     },
     "execution_count": 5,
     "metadata": {},
     "output_type": "execute_result"
    }
   ],
   "source": [
    "forward(torch.tensor([[5], [25]]))"
   ]
  },
  {
   "cell_type": "code",
   "execution_count": 6,
   "metadata": {},
   "outputs": [
    {
     "data": {
      "text/plain": [
       "tensor(16., grad_fn=<AddBackward0>)"
      ]
     },
     "execution_count": 6,
     "metadata": {},
     "output_type": "execute_result"
    }
   ],
   "source": [
    "forward(5)"
   ]
  },
  {
   "cell_type": "code",
   "execution_count": null,
   "metadata": {},
   "outputs": [],
   "source": []
  },
  {
   "cell_type": "code",
   "execution_count": 7,
   "metadata": {},
   "outputs": [
    {
     "data": {
      "text/plain": [
       "<torch._C.Generator at 0x2c5c5351670>"
      ]
     },
     "execution_count": 7,
     "metadata": {},
     "output_type": "execute_result"
    }
   ],
   "source": [
    "torch.manual_seed(1)"
   ]
  },
  {
   "cell_type": "code",
   "execution_count": 8,
   "metadata": {},
   "outputs": [],
   "source": [
    "model = Linear(in_features=1, out_features=1)"
   ]
  },
  {
   "cell_type": "code",
   "execution_count": 9,
   "metadata": {},
   "outputs": [
    {
     "name": "stdout",
     "output_type": "stream",
     "text": [
      "Parameter containing:\n",
      "tensor([-0.4414], requires_grad=True) Parameter containing:\n",
      "tensor([[0.5153]], requires_grad=True)\n"
     ]
    }
   ],
   "source": [
    "print(model.bias, model.weight)"
   ]
  },
  {
   "cell_type": "code",
   "execution_count": 10,
   "metadata": {},
   "outputs": [
    {
     "data": {
      "text/plain": [
       "tensor([[0.1769],\n",
       "        [2.3410]], grad_fn=<AddmmBackward0>)"
      ]
     },
     "execution_count": 10,
     "metadata": {},
     "output_type": "execute_result"
    }
   ],
   "source": [
    "t = torch.tensor([[1.2], [5.4]])\n",
    "model(t)"
   ]
  },
  {
   "cell_type": "code",
   "execution_count": null,
   "metadata": {},
   "outputs": [],
   "source": []
  },
  {
   "cell_type": "code",
   "execution_count": 3,
   "metadata": {},
   "outputs": [],
   "source": [
    "from typing import Union\n",
    "\n",
    "class LR(nn.Module):\n",
    "    def __init__(self, input_size, output_size):\n",
    "        super().__init__()\n",
    "        self.linear_ = Linear(input_size, output_size)\n",
    "        \n",
    "    def forward(self, x):\n",
    "        pred = self.linear_(x)\n",
    "        return pred"
   ]
  },
  {
   "cell_type": "code",
   "execution_count": 9,
   "metadata": {},
   "outputs": [
    {
     "name": "stdout",
     "output_type": "stream",
     "text": [
      "<bound method Module.parameters of LR(\n",
      "  (linear_): Linear(in_features=1, out_features=1, bias=True)\n",
      ")>\n"
     ]
    }
   ],
   "source": [
    "model = LR(1, 1)\n",
    "print(model.parameters)"
   ]
  },
  {
   "cell_type": "code",
   "execution_count": 10,
   "metadata": {},
   "outputs": [
    {
     "name": "stdout",
     "output_type": "stream",
     "text": [
      "Parameter containing:\n",
      "tensor([[0.5420]], requires_grad=True) Parameter containing:\n",
      "tensor([-0.8883], requires_grad=True)\n"
     ]
    }
   ],
   "source": [
    "[w, b] = model.parameters()\n",
    "print(w, b)"
   ]
  },
  {
   "cell_type": "code",
   "execution_count": 11,
   "metadata": {},
   "outputs": [],
   "source": [
    "def get_params(model):\n",
    "    [w_, b_] = model.parameters()\n",
    "    w = w_[0][0].item()\n",
    "    b = b_[0].item()\n",
    "    return (w, b)"
   ]
  },
  {
   "cell_type": "code",
   "execution_count": 18,
   "metadata": {},
   "outputs": [],
   "source": [
    "def plot_fit(model, X, y, title):\n",
    "    plt.title = title\n",
    "    w, b = get_params(model)\n",
    "    x1 = np.array([-30, 30])\n",
    "    y1 = w * x1 + b\n",
    "    plt.plot(x1, y1, 'r')\n",
    "    plt.scatter(X, y)\n",
    "    plt.show()"
   ]
  },
  {
   "cell_type": "code",
   "execution_count": 19,
   "metadata": {},
   "outputs": [
    {
     "data": {
      "image/png": "[encoded data removed]",
      "text/plain": [
       "<Figure size 432x288 with 1 Axes>"
      ]
     },
     "metadata": {
      "needs_background": "light"
     },
     "output_type": "display_data"
    }
   ],
   "source": [
    "plot_fit(model, X, y, 'Initial model')"
   ]
  },
  {
   "cell_type": "code",
   "execution_count": null,
   "metadata": {},
   "outputs": [],
   "source": []
  },
  {
   "cell_type": "code",
   "execution_count": 20,
   "metadata": {},
   "outputs": [],
   "source": [
    "criterion = nn.MSELoss()\n",
    "optimizer = torch.optim.SGD(model.parameters(), lr=0.01)"
   ]
  },
  {
   "cell_type": "code",
   "execution_count": 21,
   "metadata": {},
   "outputs": [
    {
     "name": "stdout",
     "output_type": "stream",
     "text": [
      "epoch: 0 loss: 26.729928970336914\n",
      "epoch: 1 loss: 22.350481033325195\n",
      "epoch: 2 loss: 19.02893829345703\n",
      "epoch: 3 loss: 16.50739860534668\n",
      "epoch: 4 loss: 14.590912818908691\n",
      "epoch: 5 loss: 13.1321382522583\n",
      "epoch: 6 loss: 12.019695281982422\n",
      "epoch: 7 loss: 11.169391632080078\n",
      "epoch: 8 loss: 10.517590522766113\n",
      "epoch: 9 loss: 10.016164779663086\n",
      "epoch: 10 loss: 9.628744125366211\n",
      "epoch: 11 loss: 9.3278169631958\n",
      "epoch: 12 loss: 9.092578887939453\n",
      "epoch: 13 loss: 8.907297134399414\n",
      "epoch: 14 loss: 8.7600679397583\n",
      "epoch: 15 loss: 8.641881942749023\n",
      "epoch: 16 loss: 8.545919418334961\n",
      "epoch: 17 loss: 8.467016220092773\n",
      "epoch: 18 loss: 8.401259422302246\n",
      "epoch: 19 loss: 8.345678329467773\n",
      "epoch: 20 loss: 8.29802131652832\n",
      "epoch: 21 loss: 8.25657844543457\n",
      "epoch: 22 loss: 8.220044136047363\n",
      "epoch: 23 loss: 8.187427520751953\n",
      "epoch: 24 loss: 8.157970428466797\n",
      "epoch: 25 loss: 8.131089210510254\n",
      "epoch: 26 loss: 8.106340408325195\n",
      "epoch: 27 loss: 8.08337688446045\n",
      "epoch: 28 loss: 8.061931610107422\n",
      "epoch: 29 loss: 8.041794776916504\n",
      "epoch: 30 loss: 8.022802352905273\n",
      "epoch: 31 loss: 8.004825592041016\n",
      "epoch: 32 loss: 7.987759590148926\n",
      "epoch: 33 loss: 7.971518516540527\n",
      "epoch: 34 loss: 7.9560346603393555\n",
      "epoch: 35 loss: 7.941249370574951\n",
      "epoch: 36 loss: 7.927113056182861\n",
      "epoch: 37 loss: 7.913586616516113\n",
      "epoch: 38 loss: 7.900632858276367\n",
      "epoch: 39 loss: 7.888217926025391\n",
      "epoch: 40 loss: 7.876316547393799\n",
      "epoch: 41 loss: 7.864902496337891\n",
      "epoch: 42 loss: 7.853951930999756\n",
      "epoch: 43 loss: 7.843444347381592\n",
      "epoch: 44 loss: 7.833359241485596\n",
      "epoch: 45 loss: 7.823678493499756\n",
      "epoch: 46 loss: 7.814384937286377\n",
      "epoch: 47 loss: 7.805461883544922\n",
      "epoch: 48 loss: 7.796894550323486\n",
      "epoch: 49 loss: 7.788668155670166\n",
      "epoch: 50 loss: 7.780768394470215\n",
      "epoch: 51 loss: 7.773181915283203\n",
      "epoch: 52 loss: 7.765897274017334\n",
      "epoch: 53 loss: 7.7589006423950195\n",
      "epoch: 54 loss: 7.7521820068359375\n",
      "epoch: 55 loss: 7.745729446411133\n",
      "epoch: 56 loss: 7.739532947540283\n",
      "epoch: 57 loss: 7.733581066131592\n",
      "epoch: 58 loss: 7.727865219116211\n",
      "epoch: 59 loss: 7.722375392913818\n",
      "epoch: 60 loss: 7.717103481292725\n",
      "epoch: 61 loss: 7.712039947509766\n",
      "epoch: 62 loss: 7.70717716217041\n",
      "epoch: 63 loss: 7.7025065422058105\n",
      "epoch: 64 loss: 7.6980204582214355\n",
      "epoch: 65 loss: 7.693713188171387\n",
      "epoch: 66 loss: 7.689576625823975\n",
      "epoch: 67 loss: 7.685601711273193\n",
      "epoch: 68 loss: 7.681786060333252\n",
      "epoch: 69 loss: 7.6781206130981445\n",
      "epoch: 70 loss: 7.674599647521973\n",
      "epoch: 71 loss: 7.671219348907471\n",
      "epoch: 72 loss: 7.667971134185791\n",
      "epoch: 73 loss: 7.664852142333984\n",
      "epoch: 74 loss: 7.661858081817627\n",
      "epoch: 75 loss: 7.6589813232421875\n",
      "epoch: 76 loss: 7.6562180519104\n",
      "epoch: 77 loss: 7.653564453125\n",
      "epoch: 78 loss: 7.651016712188721\n",
      "epoch: 79 loss: 7.648569107055664\n",
      "epoch: 80 loss: 7.646218299865723\n",
      "epoch: 81 loss: 7.643960952758789\n",
      "epoch: 82 loss: 7.641791820526123\n",
      "epoch: 83 loss: 7.639710903167725\n",
      "epoch: 84 loss: 7.637710094451904\n",
      "epoch: 85 loss: 7.635789394378662\n",
      "epoch: 86 loss: 7.633944034576416\n",
      "epoch: 87 loss: 7.63217306137085\n",
      "epoch: 88 loss: 7.630471229553223\n",
      "epoch: 89 loss: 7.628836631774902\n",
      "epoch: 90 loss: 7.627266883850098\n",
      "epoch: 91 loss: 7.625758647918701\n",
      "epoch: 92 loss: 7.624311447143555\n",
      "epoch: 93 loss: 7.622920989990234\n",
      "epoch: 94 loss: 7.621584892272949\n",
      "epoch: 95 loss: 7.620302677154541\n",
      "epoch: 96 loss: 7.619070529937744\n",
      "epoch: 97 loss: 7.617887496948242\n",
      "epoch: 98 loss: 7.616751670837402\n",
      "epoch: 99 loss: 7.615659713745117\n"
     ]
    }
   ],
   "source": [
    "epochs = 100\n",
    "losses = []\n",
    "\n",
    "for i in range(epochs):\n",
    "    y_pred = model.forward(X)\n",
    "    loss = criterion(y_pred, y)\n",
    "    print(\"epoch: \" + str(i), \"loss: \" + str(loss.item()))\n",
    "    \n",
    "    losses.append(loss)\n",
    "    optimizer.zero_grad()\n",
    "    loss.backward()\n",
    "    optimizer.step()"
   ]
  },
  {
   "cell_type": "code",
   "execution_count": 26,
   "metadata": {},
   "outputs": [
    {
     "data": {
      "text/plain": [
       "Text(0.5, 0, 'epoch')"
      ]
     },
     "execution_count": 26,
     "metadata": {},
     "output_type": "execute_result"
    },
    {
     "data": {
      "image/png": "[encoded data removed]",
      "text/plain": [
       "<Figure size 432x288 with 1 Axes>"
      ]
     },
     "metadata": {
      "needs_background": "light"
     },
     "output_type": "display_data"
    }
   ],
   "source": [
    "plt.plot(range(epochs), [x.item() for x in losses])\n",
    "plt.ylabel('Loss')\n",
    "plt.xlabel('epoch')"
   ]
  },
  {
   "cell_type": "code",
   "execution_count": 27,
   "metadata": {},
   "outputs": [
    {
     "data": {
      "image/png": "[encoded data removed]",
      "text/plain": [
       "<Figure size 432x288 with 1 Axes>"
      ]
     },
     "metadata": {
      "needs_background": "light"
     },
     "output_type": "display_data"
    }
   ],
   "source": [
    "plot_fit(model, X, y, 'Fit model')"
   ]
  },
  {
   "cell_type": "code",
   "execution_count": null,
   "metadata": {},
   "outputs": [],
   "source": []
  }
 ],
 "metadata": {
  "kernelspec": {
   "display_name": "Python [conda env:.conda-common]",
   "language": "python",
   "name": "conda-env-.conda-common-py"
  },
  "language_info": {
   "codemirror_mode": {
    "name": "ipython",
    "version": 3
   },
   "file_extension": ".py",
   "mimetype": "text/x-python",
   "name": "python",
   "nbconvert_exporter": "python",
   "pygments_lexer": "ipython3",
   "version": "3.9.5"
  }
 },
 "nbformat": 4,
 "nbformat_minor": 4
}
