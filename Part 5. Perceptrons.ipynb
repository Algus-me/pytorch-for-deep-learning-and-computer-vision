{
 "cells": [
  {
   "cell_type": "code",
   "execution_count": 2,
   "metadata": {},
   "outputs": [],
   "source": [
    "import numpy as np\n",
    "import torch\n",
    "from sklearn import datasets\n",
    "import matplotlib.pyplot as plt"
   ]
  },
  {
   "cell_type": "code",
   "execution_count": 3,
   "metadata": {},
   "outputs": [],
   "source": [
    "n_pts = 100\n",
    "centers = [[-0.5, 0.5], [0.5, -0.5]]\n",
    "X, y = datasets.make_blobs(n_samples=n_pts, centers=centers, cluster_std=0.4)"
   ]
  },
  {
   "cell_type": "code",
   "execution_count": 4,
   "metadata": {},
   "outputs": [
    {
     "data": {
      "text/plain": [
       "array([ True, False,  True,  True,  True,  True,  True, False,  True,\n",
       "        True, False,  True,  True,  True, False,  True, False,  True,\n",
       "       False, False, False,  True, False, False,  True,  True,  True,\n",
       "       False, False, False,  True,  True, False, False, False, False,\n",
       "       False,  True, False,  True,  True,  True, False, False,  True,\n",
       "        True,  True, False,  True, False,  True, False, False,  True,\n",
       "        True,  True, False, False, False,  True, False,  True, False,\n",
       "       False,  True,  True, False,  True, False,  True,  True, False,\n",
       "        True, False,  True,  True,  True, False,  True,  True, False,\n",
       "       False, False, False, False, False, False,  True, False,  True,\n",
       "       False,  True, False,  True, False, False, False,  True, False,\n",
       "        True])"
      ]
     },
     "execution_count": 4,
     "metadata": {},
     "output_type": "execute_result"
    }
   ],
   "source": [
    "y == 1"
   ]
  },
  {
   "cell_type": "code",
   "execution_count": 7,
   "metadata": {},
   "outputs": [
    {
     "data": {
      "text/plain": [
       "<matplotlib.collections.PathCollection at 0x25d14ded3a0>"
      ]
     },
     "execution_count": 7,
     "metadata": {},
     "output_type": "execute_result"
    },
    {
     "data": {
      "image/png": "[encoded data removed]",
      "text/plain": [
       "<Figure size 432x288 with 1 Axes>"
      ]
     },
     "metadata": {
      "needs_background": "light"
     },
     "output_type": "display_data"
    }
   ],
   "source": [
    "plt.scatter(X[y==0, 0], X[y==0, 1])\n",
    "plt.scatter(X[y==1, 0], X[y==1, 1])"
   ]
  },
  {
   "cell_type": "code",
   "execution_count": null,
   "metadata": {},
   "outputs": [],
   "source": []
  }
 ],
 "metadata": {
  "kernelspec": {
   "display_name": "Python [conda env:.conda-common]",
   "language": "python",
   "name": "conda-env-.conda-common-py"
  },
  "language_info": {
   "codemirror_mode": {
    "name": "ipython",
    "version": 3
   },
   "file_extension": ".py",
   "mimetype": "text/x-python",
   "name": "python",
   "nbconvert_exporter": "python",
   "pygments_lexer": "ipython3",
   "version": "3.9.5"
  }
 },
 "nbformat": 4,
 "nbformat_minor": 4
}
